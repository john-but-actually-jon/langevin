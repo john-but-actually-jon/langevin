{
 "cells": [
  {
   "cell_type": "code",
   "execution_count": 118,
   "metadata": {},
   "outputs": [],
   "source": [
    "from utils import plot, plot_with_velocities\n",
    "from build_ensemble import hex_build, square_build\n",
    "from evolve import update_position, update_velocity, equilibriate\n",
    "import matplotlib.pyplot as plt"
   ]
  },
  {
   "cell_type": "code",
   "execution_count": 119,
   "metadata": {},
   "outputs": [
    {
     "name": "stdout",
     "output_type": "stream",
     "text": [
      "|####################################################################################|99.98%"
     ]
    }
   ],
   "source": [
    "import numpy as np\n",
    "starting_conf = square_build()\n",
    "# plot(starting_conf.positions)\n",
    "newconf, energies = equilibriate(starting_conf, nsteps=5000)"
   ]
  },
  {
   "cell_type": "code",
   "execution_count": 175,
   "metadata": {},
   "outputs": [
    {
     "name": "stdout",
     "output_type": "stream",
     "text": [
      "[[1.45 2.9  1.65]\n",
      " [1.45 1.45 2.9 ]\n",
      " [2.9  1.45 1.45]\n",
      " [2.9  1.45 1.65]]\n"
     ]
    },
    {
     "data": {
      "text/plain": [
       "array([[[1.45, 1.45],\n",
       "        [1.45, 1.45],\n",
       "        [1.45, 1.45]],\n",
       "\n",
       "       [[2.9 , 2.9 ],\n",
       "        [2.9 , 2.9 ],\n",
       "        [2.9 , 2.9 ]],\n",
       "\n",
       "       [[1.65, 1.65],\n",
       "        [2.9 , 2.9 ],\n",
       "        [1.45, 1.45]],\n",
       "\n",
       "       [[1.45, 1.45],\n",
       "        [1.45, 1.45],\n",
       "        [1.65, 1.65]]])"
      ]
     },
     "execution_count": 175,
     "metadata": {},
     "output_type": "execute_result"
    }
   ],
   "source": [
    "import numpy as np\n",
    "from evolve import quadrantizer, image_builder, tile_and_remove_self_reference\n",
    "from build_ensemble import square_build\n",
    "starting_conf = square_build()\n",
    "position_subset = starting_conf.positions[0:4,:]\n",
    "image = image_builder(quadrantizer(position_subset), tile_and_remove_self_reference(position_subset))\n",
    "displacements = image - (position_matrix:=np.tile(position_subset, (1, image.shape[1])).reshape(image.shape))\n",
    "\n",
    "displacement_norms = np.linalg.norm(\n",
    "        displacements, \n",
    "        axis=-1\n",
    ")\n",
    "\n",
    "# displacement_vectors = np.array(\n",
    "#         [\n",
    "#             arr[~np.isnan(arr)] for arr in np.where(displacement_norms<=3, [displacements[0], displacements[1]], np.nan)\n",
    "#         ]\n",
    "# )\n",
    "\n",
    "displacements = np.array(\n",
    "        [\n",
    "                arr[np.where(displacement_norms < 3, True, False)[i,:]] for i,arr in enumerate(displacements)\n",
    "        ]\n",
    ")\n",
    "displacement_norms = np.array([arr[np.where(arr < 3, True, False)] for arr in displacement_norms])\n",
    "\n",
    "# displacements / np.concatenate(\n",
    "#                 [displacement_norms]*displacements.shape[0]\n",
    "#                 ).reshape(\n",
    "#                     displacements.shape,\n",
    "#                     order='F'\n",
    "#                 )\n",
    "print(displacement_norms)\n",
    "np.concatenate([displacement_norms, displacement_norms]).flatten().reshape((displacements.shape), order='F')\n",
    "# mask = np.tile(np.where(displacement_norms, True, False), (2,2,2)).reshape(displacements.shape)\n",
    "\n",
    "# np.where(mask, displacements, np.nan)\n",
    "# displacement_norms\n",
    "# print(image[1])\n",
    "# print(position_matrix[1])\n",
    "# image.shape\n",
    "# image\n",
    "# np.sum([np.array([1,2]),np.array([3,4])], axis=1)"
   ]
  },
  {
   "cell_type": "code",
   "execution_count": 120,
   "metadata": {},
   "outputs": [
    {
     "data": {
      "text/plain": [
       "<matplotlib.legend.Legend at 0x118d8c9a0>"
      ]
     },
     "execution_count": 120,
     "metadata": {},
     "output_type": "execute_result"
    },
    {
     "data": {
      "image/png": "[encoded data removed]",
      "text/plain": [
       "<Figure size 640x480 with 1 Axes>"
      ]
     },
     "metadata": {},
     "output_type": "display_data"
    }
   ],
   "source": [
    "plt.plot(range(energies[1].size), energies[1], label=\"Potential Energy\")\n",
    "plt.plot(range(energies[0].size), energies[0], label=\"Kinetic Energy\")\n",
    "plt.plot(range(energies[0].size), energies[0]+energies[1], label=\"Total Energy\")\n",
    "\n",
    "plt.legend()"
   ]
  },
  {
   "cell_type": "code",
   "execution_count": 3,
   "metadata": {},
   "outputs": [
    {
     "name": "stdout",
     "output_type": "stream",
     "text": [
      "Directions: (array([], dtype=float64), array([], dtype=float64))\n",
      "Force on particle 1: [0 0]\n",
      "Magnitude of change in position: [5.65087459e+00 8.74585665e-04]\n",
      "Delta v on particle 1: [0. 0.]\n",
      "Initial potential energy: 0.9384765625\n"
     ]
    }
   ],
   "source": [
    "import matplotlib.pyplot as plt\n",
    "import numpy as np\n",
    "\n",
    "from data_types import Configuration\n",
    "from build_ensemble import square_build\n",
    "from evolve import force, find_directions, calculate_energies, update_velocity, update_position\n",
    "from config import epsilon\n",
    "\n",
    "posarr = np.array([[0.1, 5.75], [0.1 + 2*epsilon,5.75]])\n",
    "conf = Configuration(\n",
    "    posarr,\n",
    "    np.array([[0.1, 0.1], [-0.1, 0.1]]),\n",
    "    force(posarr)\n",
    ")\n",
    "\n",
    "print(f\"Directions: {find_directions(conf.positions[0], conf.positions[1])}\")\n",
    "print(f\"Force on particle 1: {conf.forces[0]}\")\n",
    "print(f\"Magnitude of change in position: {np.linalg.norm((new_pos:=update_position(conf))[0])-conf.positions[0]}\")\n",
    "new_vel = update_velocity(conf, new_pos)[0]\n",
    "\n",
    "print(f\"Delta v on particle 1: {conf.velocities[0]-new_vel[0]}\")\n",
    "pre_energy = calculate_energies(conf)\n",
    "# post_energy = calculate_energies(Configuration(new_pos, new_vel, []))\n",
    "print(f\"Initial potential energy: {pre_energy[1]}\")\n",
    "# print(f\"Kinetic energy change: {post_energy[0] - pre_energy[0]}\")\n"
   ]
  },
  {
   "cell_type": "code",
   "execution_count": 4,
   "metadata": {},
   "outputs": [
    {
     "data": {
      "image/png": "[encoded data removed]",
      "text/plain": [
       "<Figure size 640x480 with 1 Axes>"
      ]
     },
     "metadata": {},
     "output_type": "display_data"
    }
   ],
   "source": [
    "new = update_position(starting_conf)\n",
    "plot(new)"
   ]
  },
  {
   "cell_type": "code",
   "execution_count": 70,
   "metadata": {},
   "outputs": [],
   "source": [
    "import numpy as np\n",
    "a = np.array([[[1,2],[1,2]],[[2,3],[2,3]],[[4,5],[4,5]]])\n",
    "def tile_and_remove_self_reference(position_array, ndims: int=2):\n",
    "    \"\"\"\n",
    "    Tile the input array of positions such that each particle has an associated copy of the position array. Then remove the diagonal elements of resulting matrix to remove the position of the particle to which the new position array belongs\n",
    "    \"\"\"\n",
    "    tiled = np.tile(position_array, (position_array.shape[0],1,1))\n",
    "    return tiled[~np.eye(tiled.shape[0],tiled.shape[1], dtype=bool)].reshape([tiled.shape[0], -1, ndims])\n"
   ]
  },
  {
   "cell_type": "code",
   "execution_count": 73,
   "metadata": {},
   "outputs": [
    {
     "name": "stdout",
     "output_type": "stream",
     "text": [
      "[[0.5  0.5 ]\n",
      " [0.5  1.95]\n",
      " [0.5  3.4 ]\n",
      " [0.5  4.85]]\n",
      "[[[0.5  1.95]\n",
      "  [0.5  3.4 ]\n",
      "  [0.5  4.85]\n",
      "  [1.95 0.5 ]\n",
      "  [1.95 1.95]\n",
      "  [1.95 3.4 ]\n",
      "  [1.95 4.85]\n",
      "  [3.4  0.5 ]\n",
      "  [3.4  1.95]\n",
      "  [3.4  3.4 ]\n",
      "  [3.4  4.85]\n",
      "  [4.85 0.5 ]\n",
      "  [4.85 1.95]\n",
      "  [4.85 3.4 ]\n",
      "  [4.85 4.85]]\n",
      "\n",
      " [[0.5  0.5 ]\n",
      "  [0.5  3.4 ]\n",
      "  [0.5  4.85]\n",
      "  [1.95 0.5 ]\n",
      "  [1.95 1.95]\n",
      "  [1.95 3.4 ]\n",
      "  [1.95 4.85]\n",
      "  [3.4  0.5 ]\n",
      "  [3.4  1.95]\n",
      "  [3.4  3.4 ]\n",
      "  [3.4  4.85]\n",
      "  [4.85 0.5 ]\n",
      "  [4.85 1.95]\n",
      "  [4.85 3.4 ]\n",
      "  [4.85 4.85]]\n",
      "\n",
      " [[0.5  0.5 ]\n",
      "  [0.5  1.95]\n",
      "  [0.5  4.85]\n",
      "  [1.95 0.5 ]\n",
      "  [1.95 1.95]\n",
      "  [1.95 3.4 ]\n",
      "  [1.95 4.85]\n",
      "  [3.4  0.5 ]\n",
      "  [3.4  1.95]\n",
      "  [3.4  3.4 ]\n",
      "  [3.4  4.85]\n",
      "  [4.85 0.5 ]\n",
      "  [4.85 1.95]\n",
      "  [4.85 3.4 ]\n",
      "  [4.85 4.85]]\n",
      "\n",
      " [[0.5  0.5 ]\n",
      "  [0.5  1.95]\n",
      "  [0.5  3.4 ]\n",
      "  [1.95 0.5 ]\n",
      "  [1.95 1.95]\n",
      "  [1.95 3.4 ]\n",
      "  [1.95 4.85]\n",
      "  [3.4  0.5 ]\n",
      "  [3.4  1.95]\n",
      "  [3.4  3.4 ]\n",
      "  [3.4  4.85]\n",
      "  [4.85 0.5 ]\n",
      "  [4.85 1.95]\n",
      "  [4.85 3.4 ]\n",
      "  [4.85 4.85]]\n",
      "\n",
      " [[0.5  0.5 ]\n",
      "  [0.5  1.95]\n",
      "  [0.5  3.4 ]\n",
      "  [0.5  4.85]\n",
      "  [1.95 1.95]\n",
      "  [1.95 3.4 ]\n",
      "  [1.95 4.85]\n",
      "  [3.4  0.5 ]\n",
      "  [3.4  1.95]\n",
      "  [3.4  3.4 ]\n",
      "  [3.4  4.85]\n",
      "  [4.85 0.5 ]\n",
      "  [4.85 1.95]\n",
      "  [4.85 3.4 ]\n",
      "  [4.85 4.85]]\n",
      "\n",
      " [[0.5  0.5 ]\n",
      "  [0.5  1.95]\n",
      "  [0.5  3.4 ]\n",
      "  [0.5  4.85]\n",
      "  [1.95 0.5 ]\n",
      "  [1.95 3.4 ]\n",
      "  [1.95 4.85]\n",
      "  [3.4  0.5 ]\n",
      "  [3.4  1.95]\n",
      "  [3.4  3.4 ]\n",
      "  [3.4  4.85]\n",
      "  [4.85 0.5 ]\n",
      "  [4.85 1.95]\n",
      "  [4.85 3.4 ]\n",
      "  [4.85 4.85]]\n",
      "\n",
      " [[0.5  0.5 ]\n",
      "  [0.5  1.95]\n",
      "  [0.5  3.4 ]\n",
      "  [0.5  4.85]\n",
      "  [1.95 0.5 ]\n",
      "  [1.95 1.95]\n",
      "  [1.95 4.85]\n",
      "  [3.4  0.5 ]\n",
      "  [3.4  1.95]\n",
      "  [3.4  3.4 ]\n",
      "  [3.4  4.85]\n",
      "  [4.85 0.5 ]\n",
      "  [4.85 1.95]\n",
      "  [4.85 3.4 ]\n",
      "  [4.85 4.85]]\n",
      "\n",
      " [[0.5  0.5 ]\n",
      "  [0.5  1.95]\n",
      "  [0.5  3.4 ]\n",
      "  [0.5  4.85]\n",
      "  [1.95 0.5 ]\n",
      "  [1.95 1.95]\n",
      "  [1.95 3.4 ]\n",
      "  [3.4  0.5 ]\n",
      "  [3.4  1.95]\n",
      "  [3.4  3.4 ]\n",
      "  [3.4  4.85]\n",
      "  [4.85 0.5 ]\n",
      "  [4.85 1.95]\n",
      "  [4.85 3.4 ]\n",
      "  [4.85 4.85]]\n",
      "\n",
      " [[0.5  0.5 ]\n",
      "  [0.5  1.95]\n",
      "  [0.5  3.4 ]\n",
      "  [0.5  4.85]\n",
      "  [1.95 0.5 ]\n",
      "  [1.95 1.95]\n",
      "  [1.95 3.4 ]\n",
      "  [1.95 4.85]\n",
      "  [3.4  1.95]\n",
      "  [3.4  3.4 ]\n",
      "  [3.4  4.85]\n",
      "  [4.85 0.5 ]\n",
      "  [4.85 1.95]\n",
      "  [4.85 3.4 ]\n",
      "  [4.85 4.85]]\n",
      "\n",
      " [[0.5  0.5 ]\n",
      "  [0.5  1.95]\n",
      "  [0.5  3.4 ]\n",
      "  [0.5  4.85]\n",
      "  [1.95 0.5 ]\n",
      "  [1.95 1.95]\n",
      "  [1.95 3.4 ]\n",
      "  [1.95 4.85]\n",
      "  [3.4  0.5 ]\n",
      "  [3.4  3.4 ]\n",
      "  [3.4  4.85]\n",
      "  [4.85 0.5 ]\n",
      "  [4.85 1.95]\n",
      "  [4.85 3.4 ]\n",
      "  [4.85 4.85]]\n",
      "\n",
      " [[0.5  0.5 ]\n",
      "  [0.5  1.95]\n",
      "  [0.5  3.4 ]\n",
      "  [0.5  4.85]\n",
      "  [1.95 0.5 ]\n",
      "  [1.95 1.95]\n",
      "  [1.95 3.4 ]\n",
      "  [1.95 4.85]\n",
      "  [3.4  0.5 ]\n",
      "  [3.4  1.95]\n",
      "  [3.4  4.85]\n",
      "  [4.85 0.5 ]\n",
      "  [4.85 1.95]\n",
      "  [4.85 3.4 ]\n",
      "  [4.85 4.85]]\n",
      "\n",
      " [[0.5  0.5 ]\n",
      "  [0.5  1.95]\n",
      "  [0.5  3.4 ]\n",
      "  [0.5  4.85]\n",
      "  [1.95 0.5 ]\n",
      "  [1.95 1.95]\n",
      "  [1.95 3.4 ]\n",
      "  [1.95 4.85]\n",
      "  [3.4  0.5 ]\n",
      "  [3.4  1.95]\n",
      "  [3.4  3.4 ]\n",
      "  [4.85 0.5 ]\n",
      "  [4.85 1.95]\n",
      "  [4.85 3.4 ]\n",
      "  [4.85 4.85]]\n",
      "\n",
      " [[0.5  0.5 ]\n",
      "  [0.5  1.95]\n",
      "  [0.5  3.4 ]\n",
      "  [0.5  4.85]\n",
      "  [1.95 0.5 ]\n",
      "  [1.95 1.95]\n",
      "  [1.95 3.4 ]\n",
      "  [1.95 4.85]\n",
      "  [3.4  0.5 ]\n",
      "  [3.4  1.95]\n",
      "  [3.4  3.4 ]\n",
      "  [3.4  4.85]\n",
      "  [4.85 1.95]\n",
      "  [4.85 3.4 ]\n",
      "  [4.85 4.85]]\n",
      "\n",
      " [[0.5  0.5 ]\n",
      "  [0.5  1.95]\n",
      "  [0.5  3.4 ]\n",
      "  [0.5  4.85]\n",
      "  [1.95 0.5 ]\n",
      "  [1.95 1.95]\n",
      "  [1.95 3.4 ]\n",
      "  [1.95 4.85]\n",
      "  [3.4  0.5 ]\n",
      "  [3.4  1.95]\n",
      "  [3.4  3.4 ]\n",
      "  [3.4  4.85]\n",
      "  [4.85 0.5 ]\n",
      "  [4.85 3.4 ]\n",
      "  [4.85 4.85]]\n",
      "\n",
      " [[0.5  0.5 ]\n",
      "  [0.5  1.95]\n",
      "  [0.5  3.4 ]\n",
      "  [0.5  4.85]\n",
      "  [1.95 0.5 ]\n",
      "  [1.95 1.95]\n",
      "  [1.95 3.4 ]\n",
      "  [1.95 4.85]\n",
      "  [3.4  0.5 ]\n",
      "  [3.4  1.95]\n",
      "  [3.4  3.4 ]\n",
      "  [3.4  4.85]\n",
      "  [4.85 0.5 ]\n",
      "  [4.85 1.95]\n",
      "  [4.85 4.85]]\n",
      "\n",
      " [[0.5  0.5 ]\n",
      "  [0.5  1.95]\n",
      "  [0.5  3.4 ]\n",
      "  [0.5  4.85]\n",
      "  [1.95 0.5 ]\n",
      "  [1.95 1.95]\n",
      "  [1.95 3.4 ]\n",
      "  [1.95 4.85]\n",
      "  [3.4  0.5 ]\n",
      "  [3.4  1.95]\n",
      "  [3.4  3.4 ]\n",
      "  [3.4  4.85]\n",
      "  [4.85 0.5 ]\n",
      "  [4.85 1.95]\n",
      "  [4.85 3.4 ]]]\n"
     ]
    }
   ],
   "source": [
    "from build_ensemble import square_build\n",
    "starting_conf = square_build()\n",
    "position_subset = starting_conf.positions[0:4,:]\n",
    "print(position_subset)\n",
    "print(remove_diagonal_elems(starting_conf.positions))\n",
    "\n"
   ]
  },
  {
   "cell_type": "code",
   "execution_count": 6,
   "metadata": {},
   "outputs": [
    {
     "name": "stdout",
     "output_type": "stream",
     "text": [
      "Quadrant 1!\n",
      "Quadrant 1!\n",
      "Quadrant 1!\n",
      "Quadrant 1!\n",
      "Quadrant 1!\n",
      "Quadrant 1!\n",
      "Quadrant 1!\n",
      "Quadrant 1!\n",
      "Quadrant 1!\n",
      "Quadrant 1!\n",
      "Quadrant 1!\n",
      "Quadrant 1!\n",
      "Quadrant 1!\n",
      "Quadrant 1!\n",
      "Quadrant 1!\n",
      "Quadrant 1!\n",
      "Quadrant 1!\n",
      "Quadrant 1!\n",
      "Quadrant 1!\n",
      "Quadrant 1!\n",
      "Quadrant 1!\n",
      "Quadrant 1!\n",
      "Quadrant 1!\n",
      "Quadrant 1!\n",
      "Quadrant 1!\n"
     ]
    }
   ],
   "source": [
    "from config import L\n",
    "import numpy as np\n",
    "a = square_build()\n",
    "for position in a[0]:\n",
    "    if position[0] < L/2:\n",
    "        if position[1] < L/2:\n",
    "            print(\"Quadrant 1!\")"
   ]
  },
  {
   "cell_type": "code",
   "execution_count": 7,
   "metadata": {},
   "outputs": [],
   "source": [
    "centre_conf = square_build()\n",
    "br_frame = (centre_conf[0] + np.array([L, -L]), centre_conf[1])"
   ]
  },
  {
   "cell_type": "code",
   "execution_count": 9,
   "metadata": {},
   "outputs": [],
   "source": [
    "from numpy import linalg as LA"
   ]
  },
  {
   "cell_type": "code",
   "execution_count": 21,
   "metadata": {},
   "outputs": [
    {
     "data": {
      "text/plain": [
       "array([14.15911665, 14.90002567, 15.6672679 , 16.45716073, 17.26659586,\n",
       "       18.09295066, 18.93400993, 19.78789878, 20.65302597, 21.52803667,\n",
       "       13.52017303, 14.29423868, 15.09230856, 15.91077099, 16.74663629,\n",
       "       17.59742475, 18.46107327, 19.33585872, 20.22033571, 21.11328628,\n",
       "       12.92408259, 13.73179127, 14.56072147, 15.40744838, 16.26919356,\n",
       "       17.14369242, 18.02908923, 18.92385438, 19.82671955, 20.73662676,\n",
       "       12.37703843, 13.21821701, 14.0774209 , 14.9515429 , 15.83811316,\n",
       "       16.7351534 , 17.64106652, 18.55455292, 19.47454692, 20.40016811,\n",
       "       11.88581455, 12.7594188 , 13.64753774, 14.54751327, 15.45727452,\n",
       "       16.37519058, 17.29996344, 18.23054967, 19.16610249, 20.10592863,\n",
       "       11.45759277, 12.36149719, 13.27626194, 14.19978827, 15.13047191,\n",
       "       16.06706916, 17.00860311, 17.95429714, 18.90352691, 19.85578532,\n",
       "       11.09966731, 12.03049438, 12.96862804, 13.91259031, 14.86127056,\n",
       "       15.8138197 , 16.76957847, 17.72802776, 18.68875362, 19.65142216,\n",
       "       10.81901725, 11.77205653, 12.72925108, 13.68972932, 14.65284554,\n",
       "       15.61811171, 16.58515245, 17.55367448, 18.52344546, 19.49427897,\n",
       "       10.6217697 , 11.59103845, 12.56203369, 13.53438385, 14.5078165 ,\n",
       "       15.48212746, 16.45716073, 17.43279511, 18.40893503, 19.38550412,\n",
       "       10.51262034, 11.49109948, 12.46987913, 13.44889368, 14.42809532,\n",
       "       15.40744838, 16.38692571, 17.36650627, 18.34617355, 19.32591434])"
      ]
     },
     "execution_count": 21,
     "metadata": {},
     "output_type": "execute_result"
    }
   ],
   "source": [
    "LA.norm(br_frame[0], axis=1)"
   ]
  },
  {
   "cell_type": "code",
   "execution_count": 20,
   "metadata": {},
   "outputs": [
    {
     "name": "stdout",
     "output_type": "stream",
     "text": [
      "[5 7 9]\n",
      "[1 2 3 4 5 6]\n"
     ]
    }
   ],
   "source": [
    "a = np.array([1, 2, 3])\n",
    "b = np.array([4,5,6])\n",
    "print(a + b)\n",
    "print(np.concatenate([a, b]))"
   ]
  },
  {
   "cell_type": "code",
   "execution_count": 50,
   "metadata": {},
   "outputs": [
    {
     "data": {
      "text/plain": [
       "array([], dtype=float64)"
      ]
     },
     "execution_count": 50,
     "metadata": {},
     "output_type": "execute_result"
    }
   ],
   "source": [
    "from config import N\n",
    "a = np.full((N, 4*N), np.nan)\n",
    "\n",
    "# for elem in a:\n",
    "a[~np.isnan(a)]\n",
    "# print(type(np.nan))"
   ]
  },
  {
   "cell_type": "code",
   "execution_count": 47,
   "metadata": {},
   "outputs": [],
   "source": [
    "centre = square_build()\n",
    "centre_positions = centre[0]\n",
    "ewald_images = {\n",
    "    \"TL\" : centre_positions + np.array([-L, L]),\n",
    "    \"CL\" : centre_positions + np.array([-L, 0]),\n",
    "    \"BL\" : centre_positions + np.array([-L, -L]),\n",
    "    \"BC\" : centre_positions + np.array([0, -L]),\n",
    "    \"BR\" : centre_positions + np.array([L, -L]),\n",
    "    \"CR\" : centre_positions + np.array([L, 0]),\n",
    "    \"TR\" : centre_positions + np.array([L, L]),\n",
    "    \"TC\" : centre_positions + np.array([0, L]),\n",
    "}\n",
    "ewald_image = np.concatenate([centre_positions, *ewald_images.values()])\n",
    "\n"
   ]
  },
  {
   "cell_type": "code",
   "execution_count": 82,
   "metadata": {},
   "outputs": [],
   "source": [
    "a = np.full((N, 9*N), np.nan)\n",
    "for i in range(N):\n",
    "    assert ewald_image[i, 0] > 0 and ewald_image[i, 0] < L # Check that atom is indeed in centre square\n",
    "    assert ewald_image[i, 1] > 0 and ewald_image[i, 1] < L\n",
    "    position = ewald_image[i]\n",
    "    distances = LA.norm(ewald_image-position, axis=1)\n",
    "    a[i,:] =  np.where(distances<L/2, distances, np.nan)\n",
    "    directions = LA.unit\n"
   ]
  },
  {
   "cell_type": "code",
   "execution_count": 132,
   "metadata": {},
   "outputs": [
    {
     "data": {
      "text/plain": [
       "array([[0.21821789, 0.43643578],\n",
       "       [0.87287156, 0.32444284],\n",
       "       [0.48666426, 0.81110711]])"
      ]
     },
     "execution_count": 132,
     "metadata": {},
     "output_type": "execute_result"
    }
   ],
   "source": [
    "\n",
    "v = np.array([[1,2], [2,3], [4,5]], dtype=float)\n",
    "v = np.divide(v, np.linalg.norm(v, axis=0)).transpose().reshape(3, 2)\n",
    "# np.linalg.norm(v, axis=0)\n",
    "v"
   ]
  },
  {
   "cell_type": "code",
   "execution_count": 181,
   "metadata": {},
   "outputs": [],
   "source": [
    "# x_ = np.linalg.norm(x, axis=1).reshape([3, 1])\n",
    "# x_ = np.concatenate(x_)\n"
   ]
  },
  {
   "cell_type": "code",
   "execution_count": 231,
   "metadata": {},
   "outputs": [
    {
     "data": {
      "text/plain": [
       "array([[0., 0.],\n",
       "       [1., 1.],\n",
       "       [3., 3.]])"
      ]
     },
     "execution_count": 231,
     "metadata": {},
     "output_type": "execute_result"
    }
   ],
   "source": [
    "from numpy import newaxis\n",
    "x = np.array([[1,2], [2,3], [4,5]], dtype=float)\n",
    "y = np.array([1,2])\n",
    "x-y\n",
    "# x_ = np.linalg.norm(x, axis=1)\n",
    "# x_ = np.concatenate([x_, x_]).reshape([3,-1], order='F')\n"
   ]
  },
  {
   "cell_type": "code",
   "execution_count": 228,
   "metadata": {},
   "outputs": [
    {
     "name": "stdout",
     "output_type": "stream",
     "text": [
      "[[1. 2.]\n",
      " [2. 3.]\n",
      " [4. 5.]]\n",
      "[[2.23606798 2.23606798]\n",
      " [3.60555128 3.60555128]\n",
      " [6.40312424 6.40312424]]\n"
     ]
    },
    {
     "data": {
      "text/plain": [
       "array([[0.4472136 , 0.89442719],\n",
       "       [0.5547002 , 0.83205029],\n",
       "       [0.62469505, 0.78086881]])"
      ]
     },
     "execution_count": 228,
     "metadata": {},
     "output_type": "execute_result"
    }
   ],
   "source": [
    "print(x)\n",
    "print(x_)\n",
    "x/x_"
   ]
  },
  {
   "cell_type": "code",
   "execution_count": 225,
   "metadata": {},
   "outputs": [
    {
     "data": {
      "text/plain": [
       "array([[2.23606798, 2.23606798],\n",
       "       [3.60555128, 3.60555128],\n",
       "       [6.40312424, 6.40312424]])"
      ]
     },
     "execution_count": 225,
     "metadata": {},
     "output_type": "execute_result"
    }
   ],
   "source": [
    "x_ = np.linalg.norm(x, axis=1)#.reshape([3,-1])\n",
    "x_ = np.concatenate([x_, x_]).reshape([3,-1], order='F')\n",
    "x_"
   ]
  },
  {
   "cell_type": "code",
   "execution_count": 230,
   "metadata": {},
   "outputs": [
    {
     "data": {
      "text/plain": [
       "100"
      ]
     },
     "execution_count": 230,
     "metadata": {},
     "output_type": "execute_result"
    }
   ],
   "source": [
    "len(square_build()[0])"
   ]
  },
  {
   "cell_type": "code",
   "execution_count": 1,
   "metadata": {},
   "outputs": [],
   "source": [
    "import numpy as np"
   ]
  },
  {
   "cell_type": "code",
   "execution_count": 7,
   "metadata": {},
   "outputs": [],
   "source": [
    "a = np.random.uniform(size=(100,2))"
   ]
  },
  {
   "cell_type": "code",
   "execution_count": 17,
   "metadata": {},
   "outputs": [
    {
     "data": {
      "text/plain": [
       "69.59742908631645"
      ]
     },
     "execution_count": 17,
     "metadata": {},
     "output_type": "execute_result"
    }
   ],
   "source": [
    "# a.shape\n",
    "np.sum(np.linalg.norm(a, axis=1)**2)"
   ]
  },
  {
   "cell_type": "code",
   "execution_count": 23,
   "metadata": {},
   "outputs": [
    {
     "data": {
      "text/plain": [
       "array([[0.1       , 0.1       ],\n",
       "       [0.1       , 1.73333333],\n",
       "       [0.1       , 3.36666667],\n",
       "       [0.1       , 5.        ],\n",
       "       [0.1       , 6.63333333],\n",
       "       [0.1       , 8.26666667],\n",
       "       [1.73333333, 0.1       ],\n",
       "       [1.73333333, 1.73333333],\n",
       "       [1.73333333, 3.36666667],\n",
       "       [1.73333333, 5.        ],\n",
       "       [1.73333333, 6.63333333],\n",
       "       [1.73333333, 8.26666667],\n",
       "       [3.36666667, 0.1       ],\n",
       "       [3.36666667, 1.73333333],\n",
       "       [3.36666667, 3.36666667],\n",
       "       [3.36666667, 5.        ],\n",
       "       [3.36666667, 6.63333333],\n",
       "       [3.36666667, 8.26666667],\n",
       "       [5.        , 0.1       ],\n",
       "       [5.        , 1.73333333],\n",
       "       [5.        , 3.36666667],\n",
       "       [5.        , 5.        ],\n",
       "       [5.        , 6.63333333],\n",
       "       [5.        , 8.26666667],\n",
       "       [6.63333333, 0.1       ],\n",
       "       [6.63333333, 1.73333333],\n",
       "       [6.63333333, 3.36666667],\n",
       "       [6.63333333, 5.        ],\n",
       "       [6.63333333, 6.63333333],\n",
       "       [6.63333333, 8.26666667],\n",
       "       [8.26666667, 0.1       ],\n",
       "       [8.26666667, 1.73333333],\n",
       "       [8.26666667, 3.36666667],\n",
       "       [8.26666667, 5.        ],\n",
       "       [8.26666667, 6.63333333],\n",
       "       [8.26666667, 8.26666667]])"
      ]
     },
     "execution_count": 23,
     "metadata": {},
     "output_type": "execute_result"
    }
   ],
   "source": [
    "from config import L, N\n",
    "X,Y = np.mgrid[0.1:L-0.1:(L-0.2)/np.sqrt(N), 0.1:L-0.1:(L-0.2)/np.sqrt(N)]\n",
    "initial_positions = np.array(list(zip(X.flatten(), Y.flatten())))\n",
    "\n",
    "# initial_positions = \n"
   ]
  },
  {
   "cell_type": "code",
   "execution_count": 17,
   "metadata": {},
   "outputs": [
    {
     "data": {
      "text/plain": [
       "array([[[0.1       , 0.1       , 0.1       , 0.1       , 0.1       ,\n",
       "         0.1       ],\n",
       "        [0.1       , 1.73333333, 3.36666667, 5.        , 6.63333333,\n",
       "         8.26666667]],\n",
       "\n",
       "       [[1.73333333, 1.73333333, 1.73333333, 1.73333333, 1.73333333,\n",
       "         1.73333333],\n",
       "        [0.1       , 1.73333333, 3.36666667, 5.        , 6.63333333,\n",
       "         8.26666667]],\n",
       "\n",
       "       [[3.36666667, 3.36666667, 3.36666667, 3.36666667, 3.36666667,\n",
       "         3.36666667],\n",
       "        [0.1       , 1.73333333, 3.36666667, 5.        , 6.63333333,\n",
       "         8.26666667]],\n",
       "\n",
       "       [[5.        , 5.        , 5.        , 5.        , 5.        ,\n",
       "         5.        ],\n",
       "        [0.1       , 1.73333333, 3.36666667, 5.        , 6.63333333,\n",
       "         8.26666667]],\n",
       "\n",
       "       [[6.63333333, 6.63333333, 6.63333333, 6.63333333, 6.63333333,\n",
       "         6.63333333],\n",
       "        [0.1       , 1.73333333, 3.36666667, 5.        , 6.63333333,\n",
       "         8.26666667]],\n",
       "\n",
       "       [[8.26666667, 8.26666667, 8.26666667, 8.26666667, 8.26666667,\n",
       "         8.26666667],\n",
       "        [0.1       , 1.73333333, 3.36666667, 5.        , 6.63333333,\n",
       "         8.26666667]]])"
      ]
     },
     "execution_count": 17,
     "metadata": {},
     "output_type": "execute_result"
    }
   ],
   "source": [
    "initial_positions"
   ]
  },
  {
   "cell_type": "code",
   "execution_count": null,
   "metadata": {},
   "outputs": [],
   "source": []
  }
 ],
 "metadata": {
  "kernelspec": {
   "display_name": "Python 3.11.0 ('env': venv)",
   "language": "python",
   "name": "python3"
  },
  "language_info": {
   "codemirror_mode": {
    "name": "ipython",
    "version": 3
   },
   "file_extension": ".py",
   "mimetype": "text/x-python",
   "name": "python",
   "nbconvert_exporter": "python",
   "pygments_lexer": "ipython3",
   "version": "3.11.0"
  },
  "orig_nbformat": 4,
  "vscode": {
   "interpreter": {
    "hash": "d19cc6f9db351cebb02c57773473f8f33e43dd6b9209e193e4bfbad719ad929f"
   }
  }
 },
 "nbformat": 4,
 "nbformat_minor": 2
}
