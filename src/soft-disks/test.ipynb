{
 "cells": [
  {
   "cell_type": "code",
   "execution_count": 8,
   "metadata": {},
   "outputs": [],
   "source": [
    "from utils import plot, plot_with_velocities, plot_trajectory, plot_with_v_color\n",
    "from build_ensemble import hex_build, square_build\n",
    "from evolve import update_position, update_velocity, equilibriate, force, calculate_energies, find_directions, tile_and_remove_self_reference\n",
    "import numpy as np\n",
    "import matplotlib.pyplot as plt"
   ]
  },
  {
   "cell_type": "code",
   "execution_count": 9,
   "metadata": {},
   "outputs": [],
   "source": [
    "conf = square_build()\n",
    "# force(conf.positions)\n",
    "# calculate_energies(conf)\n",
    "unit_displacements, displacement_norms = find_directions(conf.positions)\n",
    "\n",
    "r7 = displacement_norms ** 7\n",
    "r13 = displacement_norms ** 13\n",
    "absolute_force = 24*1*(1/r7 - 2/r13)"
   ]
  },
  {
   "cell_type": "code",
   "execution_count": 15,
   "metadata": {},
   "outputs": [],
   "source": [
    "dediagonalised_positions = tile_and_remove_self_reference(conf.positions)\n",
    "difference_array = conf.positions.repeat(\n",
    "    dediagonalised_positions.shape[1],\n",
    "    axis=0\n",
    ").reshape(dediagonalised_positions.shape)\n",
    "image_displacements = dediagonalised_positions-difference_array"
   ]
  },
  {
   "cell_type": "code",
   "execution_count": 34,
   "metadata": {},
   "outputs": [
    {
     "data": {
      "text/plain": [
       "array([-4.41555959e+01, -4.41555959e+01,  2.28614648e-01,  1.38663625e-02,\n",
       "        1.85606905e-03,  1.86544397e+00, -4.41555959e+01,  1.86544397e+00,\n",
       "        1.06727972e-01,  9.59860705e-03,  1.50136431e-03,  1.06727972e-01,\n",
       "        2.28614648e-01,  1.06727972e-01,  2.09110072e-02,  3.83696204e-03,\n",
       "        8.50229108e-04,  9.59860705e-03,  1.38663625e-02,  9.59860705e-03,\n",
       "        3.83696204e-03,  1.22924288e-03,  3.89417868e-04,  1.50136431e-03,\n",
       "        1.85606905e-03,  1.50136431e-03,  8.50229108e-04,  3.89417868e-04,\n",
       "        1.64140831e-04,  3.39474182e-04,  3.89417868e-04,  3.39474182e-04,\n",
       "        2.31652716e-04,  1.32761070e-04,  6.89469557e-05])"
      ]
     },
     "execution_count": 34,
     "metadata": {},
     "output_type": "execute_result"
    }
   ],
   "source": [
    "# np.sum(\n",
    "#     unit_displacements * np.dstack([absolute_force]*2) * -1,\n",
    "#     axis=-2\n",
    "# ).data\n",
    "# displacement_norms = np.linalg.norm(image_displacements, axis=-1)\n",
    "_norms = np.linalg.norm(image_displacements[1], axis=-1)\n",
    "mask = (_norms<2)\n",
    "norms = np.ma.array(_norms, mask=~mask, fill_value=np.nan)\n",
    "displacements = np.ma.array(image_displacements[1], mask=np.dstack([~mask]*2), fill_value=np.nan)\n",
    "# displacement_norms.shape\n",
    "# unit_vectors = np.full(image_displacements.shape, np.nan)\n",
    "# np.divide(\n",
    "#     image_displacements,\n",
    "#     np.dstack([displacement_norms]*2),\n",
    "#     out=unit_vectors\n",
    "r7 = _norms ** 7\n",
    "r13 = _norms ** 13\n",
    "absolute_force = 24*1*(1/r7 - 2/r13)\n",
    "absolute_force"
   ]
  },
  {
   "cell_type": "code",
   "execution_count": null,
   "metadata": {},
   "outputs": [],
   "source": []
  }
 ],
 "metadata": {
  "kernelspec": {
   "display_name": "Python 3.10.0 ('env': venv)",
   "language": "python",
   "name": "python3"
  },
  "language_info": {
   "codemirror_mode": {
    "name": "ipython",
    "version": 3
   },
   "file_extension": ".py",
   "mimetype": "text/x-python",
   "name": "python",
   "nbconvert_exporter": "python",
   "pygments_lexer": "ipython3",
   "version": "3.10.0"
  },
  "orig_nbformat": 4,
  "vscode": {
   "interpreter": {
    "hash": "d19cc6f9db351cebb02c57773473f8f33e43dd6b9209e193e4bfbad719ad929f"
   }
  }
 },
 "nbformat": 4,
 "nbformat_minor": 2
}
