{
 "cells": [
  {
   "cell_type": "code",
   "execution_count": 1,
   "metadata": {},
   "outputs": [
    {
     "data": {
      "application/vnd.jupyter.widget-view+json": {
       "model_id": "0a492eb97c9b4edd89a2d15156710767",
       "version_major": 2,
       "version_minor": 0
      },
      "text/plain": []
     },
     "metadata": {},
     "output_type": "display_data"
    }
   ],
   "source": [
    "from pdbfixer import PDBFixer\n",
    "from pathlib import Path\n",
    "import mdtraj as md\n",
    "import openmm as mm \n",
    "from openmm import app\n",
    "from openmm import unit as U\n",
    "import nglview as view"
   ]
  },
  {
   "cell_type": "code",
   "execution_count": 13,
   "metadata": {},
   "outputs": [],
   "source": [
    "struc = PDBFixer(\"../data/2efv_fixed.pdb\")\n",
    "struc.findMissingResidues()\n",
    "struc.findMissingAtoms()\n",
    "struc.addMissingAtoms()\n",
    "struc.addMissingHydrogens()\n",
    "top = struc.topology\n",
    "pos = struc.positions\n",
    "\n",
    "model = app.Modeller(top, pos)\n",
    "\n",
    "topology = model.getTopology()\n",
    "box_vectors = topology.getPeriodicBoxVectors()"
   ]
  },
  {
   "cell_type": "code",
   "execution_count": 14,
   "metadata": {},
   "outputs": [],
   "source": [
    "forcefield = app.ForceField('amber99sbildn.xml', 'tip3p.xml')\n",
    "\n",
    "model.addSolvent(\n",
    "    forcefield,\n",
    "    padding=1.*U.nanometer,\n",
    "    model='tip3p',\n",
    "    ionicStrength=0.1 * U.millimolar, \n",
    "    positiveIon='Na+',\n",
    "    negativeIon='Cl-'\n",
    ")\n",
    "\n",
    "# Write model to the pdb file\n",
    "with open('../data/prototype1/setup.pdb', 'wt') as f:\n",
    "    app.PDBFile.writeFile(model.getTopology(), model.getPositions(), f)\n",
    "\n",
    "\n",
    "system = forcefield.createSystem(\n",
    "    model.topology,\n",
    "    nonbondedMethod=app.PME,\n",
    "    nonbondedCutoff=1.0*U.nanometers,\n",
    "    constraints=app.HBonds,\n",
    "    ewaldErrorTolerance=0.0005\n",
    ")"
   ]
  },
  {
   "cell_type": "code",
   "execution_count": 15,
   "metadata": {},
   "outputs": [],
   "source": [
    "with open('../data/prototype1.xml', 'w') as f:\n",
    "    system_xml = mm.XmlSerializer.serialize(system)\n",
    "    f.write(system_xml) "
   ]
  },
  {
   "cell_type": "code",
   "execution_count": 16,
   "metadata": {},
   "outputs": [
    {
     "name": "stdout",
     "output_type": "stream",
     "text": [
      "Help on class LangevinIntegrator in module openmm.openmm:\n",
      "\n",
      "class LangevinIntegrator(Integrator)\n",
      " |  LangevinIntegrator(*args)\n",
      " |  \n",
      " |  This is an Integrator which simulates a System using Langevin dynamics.\n",
      " |  \n",
      " |  Method resolution order:\n",
      " |      LangevinIntegrator\n",
      " |      Integrator\n",
      " |      builtins.object\n",
      " |  \n",
      " |  Methods defined here:\n",
      " |  \n",
      " |  __init__(self, *args)\n",
      " |      __init__(self, temperature, frictionCoeff, stepSize) -> LangevinIntegrator\n",
      " |      __init__(self, other) -> LangevinIntegrator\n",
      " |      Create a LangevinIntegrator.\n",
      " |      \n",
      " |      Parameters\n",
      " |      ----------\n",
      " |      temperature : double\n",
      " |          the temperature of the heat bath (in Kelvin)\n",
      " |      frictionCoeff : double\n",
      " |          the friction coefficient which couples the system to the heat bath (in inverse picoseconds)\n",
      " |      stepSize : double\n",
      " |          the step size with which to integrate the system (in picoseconds)\n",
      " |  \n",
      " |  __repr__ = _swig_repr(self)\n",
      " |  \n",
      " |  getFriction(self)\n",
      " |      getFriction(self) -> double\n",
      " |      Get the friction coefficient which determines how strongly the system is coupled to the heat bath (in inverse ps).\n",
      " |      \n",
      " |      Returns\n",
      " |      -------\n",
      " |      double\n",
      " |          the friction coefficient, measured in 1/ps\n",
      " |  \n",
      " |  getRandomNumberSeed(self)\n",
      " |      getRandomNumberSeed(self) -> int\n",
      " |      Get the random number seed. See setRandomNumberSeed() for details.\n",
      " |  \n",
      " |  getTemperature(self)\n",
      " |      getTemperature(self) -> double\n",
      " |      Get the temperature of the heat bath (in Kelvin).\n",
      " |      \n",
      " |      Returns\n",
      " |      -------\n",
      " |      double\n",
      " |          the temperature of the heat bath, measured in Kelvin\n",
      " |  \n",
      " |  setFriction(self, coeff)\n",
      " |      setFriction(self, coeff)\n",
      " |      Set the friction coefficient which determines how strongly the system is coupled to the heat bath (in inverse ps).\n",
      " |      \n",
      " |      Parameters\n",
      " |      ----------\n",
      " |      coeff : double\n",
      " |          the friction coefficient, measured in 1/ps\n",
      " |  \n",
      " |  setRandomNumberSeed(self, seed)\n",
      " |      setRandomNumberSeed(self, seed)\n",
      " |      Set the random number seed. The precise meaning of this parameter is undefined, and is left up to each Platform to interpret in an appropriate way. It is guaranteed that if two simulations are run with different random number seeds, the sequence of random forces will be different. On the other hand, no guarantees are made about the behavior of simulations that use the same seed. In particular, Platforms are permitted to use non-deterministic algorithms which produce different results on successive runs, even if those runs were initialized identically.\n",
      " |      \n",
      " |      If seed is set to 0 (which is the default value assigned), a unique seed is chosen when a Context is created from this Force. This is done to ensure that each Context receives unique random seeds without you needing to set them explicitly.\n",
      " |  \n",
      " |  setTemperature(self, temp)\n",
      " |      setTemperature(self, temp)\n",
      " |      Set the temperature of the heat bath (in Kelvin).\n",
      " |      \n",
      " |      Parameters\n",
      " |      ----------\n",
      " |      temp : double\n",
      " |          the temperature of the heat bath, measured in Kelvin\n",
      " |  \n",
      " |  step(self, steps)\n",
      " |      step(self, steps)\n",
      " |      Advance a simulation through time by taking a series of time steps.\n",
      " |      \n",
      " |      Parameters\n",
      " |      ----------\n",
      " |      steps : int\n",
      " |          the number of time steps to take\n",
      " |  \n",
      " |  ----------------------------------------------------------------------\n",
      " |  Static methods defined here:\n",
      " |  \n",
      " |  __swig_destroy__ = delete_LangevinIntegrator(...)\n",
      " |      delete_LangevinIntegrator(self)\n",
      " |  \n",
      " |  ----------------------------------------------------------------------\n",
      " |  Data descriptors defined here:\n",
      " |  \n",
      " |  thisown\n",
      " |      The membership flag\n",
      " |  \n",
      " |  ----------------------------------------------------------------------\n",
      " |  Methods inherited from Integrator:\n",
      " |  \n",
      " |  __copy__(self)\n",
      " |  \n",
      " |  __deepcopy__(self, memo)\n",
      " |  \n",
      " |  __getstate__(self)\n",
      " |  \n",
      " |  __setstate__(self, serializationString)\n",
      " |  \n",
      " |  getConstraintTolerance(self)\n",
      " |      getConstraintTolerance(self) -> double\n",
      " |      Get the distance tolerance within which constraints are maintained, as a fraction of the constrained distance.\n",
      " |  \n",
      " |  getIntegrationForceGroups(self)\n",
      " |      getIntegrationForceGroups(self) -> int\n",
      " |      Get which force groups to use for integration. By default, all force groups are included. This is interpreted as a set of bit flags: the forces from group i will be included if (groups&(1<<i)) != 0.\n",
      " |  \n",
      " |  getStepSize(self)\n",
      " |      getStepSize(self) -> double\n",
      " |      Get the size of each time step, in picoseconds. If this integrator uses variable time steps, the size of the most recent step is returned.\n",
      " |      \n",
      " |      Returns\n",
      " |      -------\n",
      " |      double\n",
      " |          the step size, measured in ps\n",
      " |  \n",
      " |  setConstraintTolerance(self, tol)\n",
      " |      setConstraintTolerance(self, tol)\n",
      " |      Set the distance tolerance within which constraints are maintained, as a fraction of the constrained distance.\n",
      " |  \n",
      " |  setIntegrationForceGroups(self, groups)\n",
      " |      Set which force groups to use for integration.  By default, all force groups are included.\n",
      " |      \n",
      " |      Parameters\n",
      " |      ----------\n",
      " |      groups : set or int\n",
      " |          a set of indices for which force groups to include when integrating the equations of motion.\n",
      " |          Alternatively, the groups can be passed as a single unsigned integer interpreted as a bitmask,\n",
      " |          in which case group i will be included if (groups&(1<<i)) != 0.\n",
      " |  \n",
      " |  setStepSize(self, size)\n",
      " |      setStepSize(self, size)\n",
      " |      Set the size of each time step, in picoseconds. If this integrator uses variable time steps, the effect of calling this method is undefined, and it may simply be ignored.\n",
      " |      \n",
      " |      Parameters\n",
      " |      ----------\n",
      " |      size : double\n",
      " |          the step size, measured in ps\n",
      " |  \n",
      " |  ----------------------------------------------------------------------\n",
      " |  Data descriptors inherited from Integrator:\n",
      " |  \n",
      " |  __dict__\n",
      " |      dictionary for instance variables (if defined)\n",
      " |  \n",
      " |  __weakref__\n",
      " |      list of weak references to the object (if defined)\n",
      "\n"
     ]
    }
   ],
   "source": [
    "help(mm.openmm.LangevinIntegrator)"
   ]
  },
  {
   "cell_type": "code",
   "execution_count": 17,
   "metadata": {},
   "outputs": [],
   "source": [
    "integrator = mm.openmm.LangevinIntegrator(\n",
    "    300*U.kelvin, \n",
    "    1/U.picosecond, \n",
    "    0.002 * U.picoseconds\n",
    ")\n",
    "platform = mm.Platform.getPlatformByName(\"CPU\")\n",
    "simulation = app.simulation.Simulation(\n",
    "    model.topology,\n",
    "    system,\n",
    "    integrator,\n",
    "    platform\n",
    ")\n",
    "\n",
    "simulation.context.setPositions(model.positions)"
   ]
  },
  {
   "cell_type": "code",
   "execution_count": 18,
   "metadata": {},
   "outputs": [],
   "source": [
    "simulation.reporters.append(app.pdbreporter.PDBReporter(\"../data/prototype1/run1.pdb\", 50))\n",
    "simulation.reporters.append(app.dcdreporter.DCDReporter('../data/prototype1/run1.dcd', 10))\n",
    "simulation.reporters.append(app.statedatareporter.StateDataReporter('mm.log', 10, step=True, potentialEnergy=True, temperature=True))"
   ]
  },
  {
   "cell_type": "code",
   "execution_count": 19,
   "metadata": {},
   "outputs": [],
   "source": [
    "simulation.minimizeEnergy()"
   ]
  },
  {
   "cell_type": "code",
   "execution_count": 20,
   "metadata": {},
   "outputs": [],
   "source": [
    "### Get out structure after minimization (Bonus trick)\n",
    "current_reporter = app.pdbreporter.PDBReporter(\"../data/prototype1/structure_after_minimization.pdb\",1)\n",
    "current_reporter.report(simulation, simulation.context.getState(getPositions=True))"
   ]
  },
  {
   "cell_type": "code",
   "execution_count": 21,
   "metadata": {},
   "outputs": [
    {
     "data": {
      "application/vnd.jupyter.widget-view+json": {
       "model_id": "50dcc72ce8df4fa59ed98de5413e435a",
       "version_major": 2,
       "version_minor": 0
      },
      "text/plain": [
       "NGLWidget()"
      ]
     },
     "metadata": {},
     "output_type": "display_data"
    }
   ],
   "source": [
    "minimized = md.load_pdb(\"../data/prototype1/structure_after_minimization.pdb\")\n",
    "view.show_mdtraj(minimized)"
   ]
  },
  {
   "cell_type": "code",
   "execution_count": 22,
   "metadata": {},
   "outputs": [],
   "source": [
    "n_steps = 10000\n",
    "simulation.step(n_steps)"
   ]
  },
  {
   "cell_type": "code",
   "execution_count": 23,
   "metadata": {},
   "outputs": [
    {
     "data": {
      "application/vnd.jupyter.widget-view+json": {
       "model_id": "40f6997c37b74417beb26c8ecd2514a4",
       "version_major": 2,
       "version_minor": 0
      },
      "text/plain": [
       "NGLWidget(max_frame=199)"
      ]
     },
     "metadata": {},
     "output_type": "display_data"
    }
   ],
   "source": [
    "traj1 = md.load_pdb(\"../data/prototype1/run1.pdb\")\n",
    "view.show_mdtraj(traj1)"
   ]
  },
  {
   "cell_type": "code",
   "execution_count": 33,
   "metadata": {},
   "outputs": [
    {
     "name": "stdout",
     "output_type": "stream",
     "text": [
      "[<mdtraj.core.topology.Chain object at 0x15f4a5a90>, <mdtraj.core.topology.Chain object at 0x15f4a5af0>]\n"
     ]
    },
    {
     "data": {
      "application/vnd.jupyter.widget-view+json": {
       "model_id": "5ef5ddca9ffe417a82389e304bd859f8",
       "version_major": 2,
       "version_minor": 0
      },
      "text/plain": [
       "NGLWidget()"
      ]
     },
     "metadata": {},
     "output_type": "display_data"
    }
   ],
   "source": [
    "base = md.load_pdb(\"../data/2efv.pdb\")\n",
    "print(list(base.topology.chains))\n",
    "view.show_mdtraj(base)\n"
   ]
  },
  {
   "cell_type": "code",
   "execution_count": null,
   "metadata": {},
   "outputs": [],
   "source": []
  },
  {
   "cell_type": "code",
   "execution_count": 26,
   "metadata": {},
   "outputs": [
    {
     "data": {
      "application/vnd.jupyter.widget-view+json": {
       "model_id": "c8058ecbd2d14220ab6268d8b468df0c",
       "version_major": 2,
       "version_minor": 0
      },
      "text/plain": [
       "NGLWidget()"
      ]
     },
     "metadata": {},
     "output_type": "display_data"
    }
   ],
   "source": [
    "base = md.load_pdb(\"../data/2efv_fixed.pdb\")\n",
    "view.show_mdtraj(base)"
   ]
  },
  {
   "cell_type": "code",
   "execution_count": 27,
   "metadata": {},
   "outputs": [
    {
     "data": {
      "text/plain": [
       "<mdtraj.Topology with 1 chains, 92 residues, 762 atoms, 769 bonds at 0x160e9c820>"
      ]
     },
     "execution_count": 27,
     "metadata": {},
     "output_type": "execute_result"
    }
   ],
   "source": [
    "base.topology"
   ]
  },
  {
   "cell_type": "code",
   "execution_count": null,
   "metadata": {},
   "outputs": [],
   "source": []
  }
 ],
 "metadata": {
  "kernelspec": {
   "display_name": "Python 3",
   "language": "python",
   "name": "python3"
  },
  "language_info": {
   "codemirror_mode": {
    "name": "ipython",
    "version": 3
   },
   "file_extension": ".py",
   "mimetype": "text/x-python",
   "name": "python",
   "nbconvert_exporter": "python",
   "pygments_lexer": "ipython3",
   "version": "3.8.16 | packaged by conda-forge | (default, Feb  1 2023, 16:01:13) \n[Clang 14.0.6 ]"
  },
  "vscode": {
   "interpreter": {
    "hash": "bfcc480801675d0fff09d656fb73d95b97328e19907214e8d66698807597ce24"
   }
  }
 },
 "nbformat": 4,
 "nbformat_minor": 2
}
