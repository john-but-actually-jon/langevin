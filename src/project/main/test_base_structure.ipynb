{
 "cells": [
  {
   "cell_type": "code",
   "execution_count": 1,
   "metadata": {},
   "outputs": [
    {
     "data": {
      "application/vnd.jupyter.widget-view+json": {
       "model_id": "f550e3dee44b4929a770845ecb62fa3f",
       "version_major": 2,
       "version_minor": 0
      },
      "text/plain": []
     },
     "metadata": {},
     "output_type": "display_data"
    }
   ],
   "source": [
    "# from pdbfixer import PDBFixer\n",
    "from pathlib import Path\n",
    "import mdtraj as md\n",
    "import openmm as mm \n",
    "from openmm import app\n",
    "from openmm import unit as U\n",
    "import nglview as view"
   ]
  },
  {
   "cell_type": "code",
   "execution_count": 20,
   "metadata": {},
   "outputs": [],
   "source": [
    "### Get out structure after minimization (Bonus trick)\n",
    "current_reporter = app.pdbreporter.PDBReporter(\"../data/prototype1/structure_after_minimization.pdb\",1)\n",
    "current_reporter.report(simulation, simulation.context.getState(getPositions=True))"
   ]
  },
  {
   "cell_type": "code",
   "execution_count": 21,
   "metadata": {},
   "outputs": [
    {
     "data": {
      "application/vnd.jupyter.widget-view+json": {
       "model_id": "50dcc72ce8df4fa59ed98de5413e435a",
       "version_major": 2,
       "version_minor": 0
      },
      "text/plain": [
       "NGLWidget()"
      ]
     },
     "metadata": {},
     "output_type": "display_data"
    }
   ],
   "source": [
    "minimized = md.load_pdb(\"../data/prototype1/structure_after_minimization.pdb\")\n",
    "view.show_mdtraj(minimized)"
   ]
  },
  {
   "cell_type": "code",
   "execution_count": 22,
   "metadata": {},
   "outputs": [],
   "source": [
    "n_steps = 10000\n",
    "simulation.step(n_steps)"
   ]
  },
  {
   "cell_type": "code",
   "execution_count": 3,
   "metadata": {},
   "outputs": [
    {
     "data": {
      "application/vnd.jupyter.widget-view+json": {
       "model_id": "fc3b9accf2c74716a1e8cb452ae67cf0",
       "version_major": 2,
       "version_minor": 0
      },
      "text/plain": [
       "NGLWidget(max_frame=199)"
      ]
     },
     "metadata": {},
     "output_type": "display_data"
    }
   ],
   "source": [
    "traj1 = md.load_pdb(\"../data/prototype1/run1.pdb\")\n",
    "view.show_mdtraj(traj1)"
   ]
  },
  {
   "cell_type": "code",
   "execution_count": 33,
   "metadata": {},
   "outputs": [
    {
     "name": "stdout",
     "output_type": "stream",
     "text": [
      "[<mdtraj.core.topology.Chain object at 0x15f4a5a90>, <mdtraj.core.topology.Chain object at 0x15f4a5af0>]\n"
     ]
    },
    {
     "data": {
      "application/vnd.jupyter.widget-view+json": {
       "model_id": "5ef5ddca9ffe417a82389e304bd859f8",
       "version_major": 2,
       "version_minor": 0
      },
      "text/plain": [
       "NGLWidget()"
      ]
     },
     "metadata": {},
     "output_type": "display_data"
    }
   ],
   "source": [
    "base = md.load_pdb(\"../data/2efv.pdb\")\n",
    "print(list(base.topology.chains))\n",
    "view.show_mdtraj(base)\n"
   ]
  },
  {
   "cell_type": "code",
   "execution_count": null,
   "metadata": {},
   "outputs": [],
   "source": []
  },
  {
   "cell_type": "code",
   "execution_count": 3,
   "metadata": {},
   "outputs": [
    {
     "data": {
      "application/vnd.jupyter.widget-view+json": {
       "model_id": "0ff99e4b2d374abfb1f54ce73746402d",
       "version_major": 2,
       "version_minor": 0
      },
      "text/plain": [
       "NGLWidget()"
      ]
     },
     "metadata": {},
     "output_type": "display_data"
    }
   ],
   "source": [
    "base = md.load_pdb(\"../data/2efv_fixed.pdb\")\n",
    "view.show_mdtraj(base)"
   ]
  },
  {
   "cell_type": "code",
   "execution_count": 27,
   "metadata": {},
   "outputs": [
    {
     "data": {
      "text/plain": [
       "<mdtraj.Topology with 1 chains, 92 residues, 762 atoms, 769 bonds at 0x160e9c820>"
      ]
     },
     "execution_count": 27,
     "metadata": {},
     "output_type": "execute_result"
    }
   ],
   "source": [
    "base.topology"
   ]
  },
  {
   "cell_type": "code",
   "execution_count": 11,
   "metadata": {},
   "outputs": [],
   "source": [
    "from OpenSMOG import OpenSMOG"
   ]
  },
  {
   "cell_type": "code",
   "execution_count": 13,
   "metadata": {},
   "outputs": [],
   "source": [
    "pdb = OpenSMOG.pdbfile.PDBFile(\"../data/TrialSystem1/TrialSystem1.pdb\")\n",
    "gro = OpenSMOG.GromacsGroFile(\"../data/TrialSystem1/TrialSystem1.gro\")\n",
    "top = OpenSMOG.GromacsTopFile(\"../data/TrialSystem1/TrialSystem1.top\")"
   ]
  },
  {
   "cell_type": "code",
   "execution_count": 14,
   "metadata": {},
   "outputs": [
    {
     "data": {
      "text/plain": [
       "<openmm.app.gromacstopfile.GromacsTopFile at 0x1396165b0>"
      ]
     },
     "execution_count": 14,
     "metadata": {},
     "output_type": "execute_result"
    }
   ],
   "source": [
    "top"
   ]
  },
  {
   "cell_type": "code",
   "execution_count": 3,
   "metadata": {},
   "outputs": [
    {
     "name": "stdout",
     "output_type": "stream",
     "text": [
      "    ****************************************************************************************    \n",
      "      **** *** *** *** *** *** *** *** OpenSMOG (v1.1.1) *** *** *** *** *** *** *** ****       \n",
      "\n",
      "           The OpenSMOG class is used to perform molecular dynamics simulations using           \n",
      "                     Structure-Based Models (SBM) for biomolecular systems,                     \n",
      "             and it allows for the simulation of a wide variety of potential forms.             \n",
      "                      OpenSMOG uses force field files generated by SMOG 2.                      \n",
      "                             OpenSMOG documentation is available at                             \n",
      "                  https://opensmog.readthedocs.io and https://smog-server.org                   \n",
      "\n",
      "                    OpenSMOG is described in: Oliveira and Contessoto et al,                    \n",
      "              SMOG 2 and OpenSMOG: Extending the limits of structure-based models.              \n",
      "                    Protein Science, 31, 158-172 (2022) DOI:10.1002/pro.4209                    \n",
      "\n",
      "        This package is the product of contributions from a number of people, including:        \n",
      "               Jeffrey Noel, Mariana Levi, Antonio Oliveira, Vinícius Contessoto,               \n",
      "             Esteban Dodero-Rojas, Mohit Raghunathan, Joyce Yang, Prasad Bandarkar,             \n",
      "                     Udayan Mohanty, Ailun Wang, Heiko Lammert, Ryan Hayes,                     \n",
      "                                  Jose Onuchic & Paul Whitford                                  \n",
      "\n",
      "                     Copyright (c) 2021, 2022, The SMOG development team at                     \n",
      "                          Rice University and Northeastern University                           \n",
      "\n",
      "\n",
      "\n",
      "             For more information, including descriptions of units and examples of              \n",
      "             how to launch a simulation with OpenSMOG, issue the command SBM.help()             \n",
      "             To check your installation of OpenSMOG/SMOG2, use SBM.opensmogcheck()              \n",
      "                  Additional information available at https://smog-server.org                   \n",
      "    ****************************************************************************************    \n"
     ]
    }
   ],
   "source": [
    "from OpenSMOG import SBM\n",
    "from pathlib import Path"
   ]
  },
  {
   "cell_type": "code",
   "execution_count": 19,
   "metadata": {},
   "outputs": [],
   "source": [
    "sbm_CA = SBM(name='2ci2', time_step=0.0005, collision_rate=1.0, r_cutoff=0.65, temperature=0.5)"
   ]
  },
  {
   "cell_type": "code",
   "execution_count": 24,
   "metadata": {},
   "outputs": [],
   "source": [
    "sbm_CA.setup_openmm(platform='cpu')"
   ]
  },
  {
   "cell_type": "code",
   "execution_count": 42,
   "metadata": {},
   "outputs": [
    {
     "data": {
      "text/plain": [
       "<OpenSMOG.OpenSMOG.SBM at 0x1392c0b50>"
      ]
     },
     "execution_count": 42,
     "metadata": {},
     "output_type": "execute_result"
    }
   ],
   "source": [
    "sbm_CA"
   ]
  },
  {
   "cell_type": "code",
   "execution_count": 28,
   "metadata": {},
   "outputs": [],
   "source": [
    "sbm_CA.saveFolder('../data/test2')"
   ]
  },
  {
   "cell_type": "code",
   "execution_count": 8,
   "metadata": {},
   "outputs": [],
   "source": [
    "\n",
    "# sbm_xmlfile = \"../data/TrialSystem1/TrialSystem1.xml\"\n",
    "# assert Path(sbm_grofile).exists()\n"
   ]
  },
  {
   "cell_type": "code",
   "execution_count": 9,
   "metadata": {},
   "outputs": [],
   "source": []
  },
  {
   "cell_type": "code",
   "execution_count": 2,
   "metadata": {},
   "outputs": [],
   "source": [
    "import openmm as mm\n",
    "from openmm import app\n",
    "\n",
    "sbm_grofile = \"../data/base/base.gro\"\n",
    "sbm_topfile = \"../data/base/base.top\"\n",
    "top = app.GromacsTopFile(sbm_topfile)\n",
    "pos = app.GromacsGroFile(sbm_grofile)"
   ]
  },
  {
   "cell_type": "code",
   "execution_count": 3,
   "metadata": {},
   "outputs": [
    {
     "name": "stdout",
     "output_type": "stream",
     "text": [
      "Help on method createSystem in module openmm.app.gromacstopfile:\n",
      "\n",
      "createSystem(nonbondedMethod=NoCutoff, nonbondedCutoff=Quantity(value=1.0, unit=nanometer), constraints=None, rigidWater=True, implicitSolvent=None, soluteDielectric=1.0, solventDielectric=78.5, ewaldErrorTolerance=0.0005, removeCMMotion=True, hydrogenMass=None, switchDistance=None) method of openmm.app.gromacstopfile.GromacsTopFile instance\n",
      "    Construct an OpenMM System representing the topology described by this\n",
      "    top file.\n",
      "    \n",
      "    Parameters\n",
      "    ----------\n",
      "    nonbondedMethod : object=NoCutoff\n",
      "        The method to use for nonbonded interactions.  Allowed values are\n",
      "        NoCutoff, CutoffNonPeriodic, CutoffPeriodic, Ewald, PME, or LJPME.\n",
      "    nonbondedCutoff : distance=1*nanometer\n",
      "        The cutoff distance to use for nonbonded interactions\n",
      "    constraints : object=None\n",
      "        Specifies which bonds and angles should be implemented with\n",
      "        constraints. Allowed values are None, HBonds, AllBonds, or HAngles.\n",
      "        Regardless of this value, constraints that are explicitly specified\n",
      "        in the top file will always be included.\n",
      "    rigidWater : boolean=True\n",
      "        If true, water molecules will be fully rigid regardless of the value\n",
      "        passed for the constraints argument\n",
      "    implicitSolvent : object=None\n",
      "        If not None, the implicit solvent model to use.  The only allowed\n",
      "        value is OBC2.  This option is deprecated, since Gromacs 2019 and later\n",
      "        no longer support implicit solvent.  It will be removed in a future\n",
      "        release.\n",
      "    soluteDielectric : float=1.0\n",
      "        The solute dielectric constant to use in the implicit solvent model.\n",
      "    solventDielectric : float=78.5\n",
      "        The solvent dielectric constant to use in the implicit solvent\n",
      "        model.\n",
      "    ewaldErrorTolerance : float=0.0005\n",
      "        The error tolerance to use if nonbondedMethod is Ewald, PME or LJPME.\n",
      "    removeCMMotion : boolean=True\n",
      "        If true, a CMMotionRemover will be added to the System\n",
      "    hydrogenMass : mass=None\n",
      "        The mass to use for hydrogen atoms bound to heavy atoms.  Any mass\n",
      "        added to a hydrogen is subtracted from the heavy atom to keep their\n",
      "        total mass the same.  If rigidWater is used to make water molecules\n",
      "        rigid, then water hydrogens are not altered.\n",
      "    switchDistance : float=None\n",
      "        The distance at which the potential energy switching function is turned on for\n",
      "        Lennard-Jones interactions. If this is None, no switching function will be used.\n",
      "    \n",
      "    Returns\n",
      "    -------\n",
      "    System\n",
      "         the newly created System\n",
      "\n"
     ]
    }
   ],
   "source": [
    "# top.topology.getPeriodicBoxVectors()\n",
    "help(top.createSystem)\n",
    "# for vec in pos.getPeriodicBoxVectors():\n",
    "    # print (vec*2)"
   ]
  },
  {
   "cell_type": "code",
   "execution_count": 14,
   "metadata": {},
   "outputs": [
    {
     "name": "stdout",
     "output_type": "stream",
     "text": [
      "False\n"
     ]
    }
   ],
   "source": [
    "\n",
    "\n",
    "system = top.createSystem(\n",
    "    # nonbondedMethod=app.CutoffPeriodic,\n",
    "    nonbondedCutoff=0.65*mm.openmm.unit.nanometer,\n",
    "    removeCMMotion=True\n",
    ")\n",
    "\n",
    "print(system.usesPeriodicBoundaryConditions())\n",
    "\n",
    "system.setDefaultPeriodicBoxVectors(*pos.getPeriodicBoxVectors())\n",
    "\n",
    "nonbonded_force = mm.openmm.CustomNonbondedForce(\"(sigma/r)^6\", )\n",
    "nonbonded_force.addGlobalParameter('sigma', 0.2)\n",
    "\n",
    "nonbonded_force.setCutoffDistance(0.65*mm.openmm.unit.nanometer)\n",
    "\n",
    "\n",
    "\n",
    "for i in range(top.topology.getNumAtoms()):\n",
    "    nonbonded_force.addParticle()\n",
    "\n",
    "# nonbonded_force.createExclusionsFromBonds(\n",
    "#     [[bond.atom1.index, bond.atom2.index] for bond in top.topology.bonds()],\n",
    "#     bondCutoff=1\n",
    "# )\n",
    "\n",
    "# system.addForce(nonbonded_force)\n",
    "# top.topology\n",
    "# help(top.loadBondDefinitions)"
   ]
  },
  {
   "cell_type": "code",
   "execution_count": 1,
   "metadata": {},
   "outputs": [
    {
     "name": "stdout",
     "output_type": "stream",
     "text": [
      "    ****************************************************************************************    \n",
      "      **** *** *** *** *** *** *** *** OpenSMOG (v1.1.1) *** *** *** *** *** *** *** ****       \n",
      "\n",
      "           The OpenSMOG class is used to perform molecular dynamics simulations using           \n",
      "                     Structure-Based Models (SBM) for biomolecular systems,                     \n",
      "             and it allows for the simulation of a wide variety of potential forms.             \n",
      "                      OpenSMOG uses force field files generated by SMOG 2.                      \n",
      "                             OpenSMOG documentation is available at                             \n",
      "                  https://opensmog.readthedocs.io and https://smog-server.org                   \n",
      "\n",
      "                    OpenSMOG is described in: Oliveira and Contessoto et al,                    \n",
      "              SMOG 2 and OpenSMOG: Extending the limits of structure-based models.              \n",
      "                    Protein Science, 31, 158-172 (2022) DOI:10.1002/pro.4209                    \n",
      "\n",
      "        This package is the product of contributions from a number of people, including:        \n",
      "               Jeffrey Noel, Mariana Levi, Antonio Oliveira, Vinícius Contessoto,               \n",
      "             Esteban Dodero-Rojas, Mohit Raghunathan, Joyce Yang, Prasad Bandarkar,             \n",
      "                     Udayan Mohanty, Ailun Wang, Heiko Lammert, Ryan Hayes,                     \n",
      "                                  Jose Onuchic & Paul Whitford                                  \n",
      "\n",
      "                     Copyright (c) 2021, 2022, The SMOG development team at                     \n",
      "                          Rice University and Northeastern University                           \n",
      "\n",
      "\n",
      "\n",
      "             For more information, including descriptions of units and examples of              \n",
      "             how to launch a simulation with OpenSMOG, issue the command SBM.help()             \n",
      "             To check your installation of OpenSMOG/SMOG2, use SBM.opensmogcheck()              \n",
      "                  Additional information available at https://smog-server.org                   \n",
      "    ****************************************************************************************    \n"
     ]
    }
   ],
   "source": [
    "from simulation.system_builder import SMOGSystem\n",
    "\n",
    "sim = SMOGSystem().build_simulation()"
   ]
  },
  {
   "cell_type": "code",
   "execution_count": 2,
   "metadata": {},
   "outputs": [],
   "source": [
    "sim.minimizeEnergy()"
   ]
  },
  {
   "cell_type": "code",
   "execution_count": 3,
   "metadata": {},
   "outputs": [
    {
     "ename": "ValueError",
     "evalue": "Energy is NaN.  For more information, see https://github.com/openmm/openmm/wiki/Frequently-Asked-Questions#nan",
     "output_type": "error",
     "traceback": [
      "\u001b[0;31m---------------------------------------------------------------------------\u001b[0m",
      "\u001b[0;31mValueError\u001b[0m                                Traceback (most recent call last)",
      "Cell \u001b[0;32mIn[3], line 1\u001b[0m\n\u001b[0;32m----> 1\u001b[0m sim\u001b[39m.\u001b[39;49mstep(\u001b[39m100000000\u001b[39;49m)\n",
      "File \u001b[0;32m~/miniconda3/envs/cmp/lib/python3.8/site-packages/openmm/app/simulation.py:141\u001b[0m, in \u001b[0;36mSimulation.step\u001b[0;34m(self, steps)\u001b[0m\n\u001b[1;32m    139\u001b[0m \u001b[39mdef\u001b[39;00m \u001b[39mstep\u001b[39m(\u001b[39mself\u001b[39m, steps):\n\u001b[1;32m    140\u001b[0m \u001b[39m    \u001b[39m\u001b[39m\"\"\"Advance the simulation by integrating a specified number of time steps.\"\"\"\u001b[39;00m\n\u001b[0;32m--> 141\u001b[0m     \u001b[39mself\u001b[39;49m\u001b[39m.\u001b[39;49m_simulate(endStep\u001b[39m=\u001b[39;49m\u001b[39mself\u001b[39;49m\u001b[39m.\u001b[39;49mcurrentStep\u001b[39m+\u001b[39;49msteps)\n",
      "File \u001b[0;32m~/miniconda3/envs/cmp/lib/python3.8/site-packages/openmm/app/simulation.py:243\u001b[0m, in \u001b[0;36mSimulation._simulate\u001b[0;34m(self, endStep, endTime)\u001b[0m\n\u001b[1;32m    241\u001b[0m     \u001b[39mself\u001b[39m\u001b[39m.\u001b[39m_generate_reports(wrapped, \u001b[39mTrue\u001b[39;00m)\n\u001b[1;32m    242\u001b[0m \u001b[39mif\u001b[39;00m \u001b[39mlen\u001b[39m(unwrapped) \u001b[39m>\u001b[39m \u001b[39m0\u001b[39m:\n\u001b[0;32m--> 243\u001b[0m     \u001b[39mself\u001b[39;49m\u001b[39m.\u001b[39;49m_generate_reports(unwrapped, \u001b[39mFalse\u001b[39;49;00m)\n",
      "File \u001b[0;32m~/miniconda3/envs/cmp/lib/python3.8/site-packages/openmm/app/simulation.py:263\u001b[0m, in \u001b[0;36mSimulation._generate_reports\u001b[0;34m(self, reports, periodic)\u001b[0m\n\u001b[1;32m    259\u001b[0m state \u001b[39m=\u001b[39m \u001b[39mself\u001b[39m\u001b[39m.\u001b[39mcontext\u001b[39m.\u001b[39mgetState(getPositions\u001b[39m=\u001b[39mgetPositions, getVelocities\u001b[39m=\u001b[39mgetVelocities, getForces\u001b[39m=\u001b[39mgetForces,\n\u001b[1;32m    260\u001b[0m                               getEnergy\u001b[39m=\u001b[39mgetEnergy, getParameters\u001b[39m=\u001b[39m\u001b[39mTrue\u001b[39;00m, enforcePeriodicBox\u001b[39m=\u001b[39mperiodic,\n\u001b[1;32m    261\u001b[0m                               groups\u001b[39m=\u001b[39m\u001b[39mself\u001b[39m\u001b[39m.\u001b[39mcontext\u001b[39m.\u001b[39mgetIntegrator()\u001b[39m.\u001b[39mgetIntegrationForceGroups())\n\u001b[1;32m    262\u001b[0m \u001b[39mfor\u001b[39;00m reporter, \u001b[39mnext\u001b[39m \u001b[39min\u001b[39;00m reports:\n\u001b[0;32m--> 263\u001b[0m     reporter\u001b[39m.\u001b[39;49mreport(\u001b[39mself\u001b[39;49m, state)\n",
      "File \u001b[0;32m~/miniconda3/envs/cmp/lib/python3.8/site-packages/openmm/app/statedatareporter.py:206\u001b[0m, in \u001b[0;36mStateDataReporter.report\u001b[0;34m(self, simulation, state)\u001b[0m\n\u001b[1;32m    203\u001b[0m     \u001b[39mself\u001b[39m\u001b[39m.\u001b[39m_hasInitialized \u001b[39m=\u001b[39m \u001b[39mTrue\u001b[39;00m\n\u001b[1;32m    205\u001b[0m \u001b[39m# Check for errors.\u001b[39;00m\n\u001b[0;32m--> 206\u001b[0m \u001b[39mself\u001b[39;49m\u001b[39m.\u001b[39;49m_checkForErrors(simulation, state)\n\u001b[1;32m    208\u001b[0m \u001b[39m# Query for the values\u001b[39;00m\n\u001b[1;32m    209\u001b[0m values \u001b[39m=\u001b[39m \u001b[39mself\u001b[39m\u001b[39m.\u001b[39m_constructReportValues(simulation, state)\n",
      "File \u001b[0;32m~/miniconda3/envs/cmp/lib/python3.8/site-packages/openmm/app/statedatareporter.py:365\u001b[0m, in \u001b[0;36mStateDataReporter._checkForErrors\u001b[0;34m(self, simulation, state)\u001b[0m\n\u001b[1;32m    363\u001b[0m energy \u001b[39m=\u001b[39m (state\u001b[39m.\u001b[39mgetKineticEnergy()\u001b[39m+\u001b[39mstate\u001b[39m.\u001b[39mgetPotentialEnergy())\u001b[39m.\u001b[39mvalue_in_unit(unit\u001b[39m.\u001b[39mkilojoules_per_mole)\n\u001b[1;32m    364\u001b[0m \u001b[39mif\u001b[39;00m math\u001b[39m.\u001b[39misnan(energy):\n\u001b[0;32m--> 365\u001b[0m     \u001b[39mraise\u001b[39;00m \u001b[39mValueError\u001b[39;00m(\u001b[39m'\u001b[39m\u001b[39mEnergy is NaN.  For more information, see https://github.com/openmm/openmm/wiki/Frequently-Asked-Questions#nan\u001b[39m\u001b[39m'\u001b[39m)\n\u001b[1;32m    366\u001b[0m \u001b[39mif\u001b[39;00m math\u001b[39m.\u001b[39misinf(energy):\n\u001b[1;32m    367\u001b[0m     \u001b[39mraise\u001b[39;00m \u001b[39mValueError\u001b[39;00m(\u001b[39m'\u001b[39m\u001b[39mEnergy is infinite.  For more information, see https://github.com/openmm/openmm/wiki/Frequently-Asked-Questions#nan\u001b[39m\u001b[39m'\u001b[39m)\n",
      "\u001b[0;31mValueError\u001b[0m: Energy is NaN.  For more information, see https://github.com/openmm/openmm/wiki/Frequently-Asked-Questions#nan"
     ]
    }
   ],
   "source": [
    "sim.step(100000000)"
   ]
  },
  {
   "cell_type": "code",
   "execution_count": 4,
   "metadata": {},
   "outputs": [
    {
     "data": {
      "application/vnd.jupyter.widget-view+json": {
       "model_id": "0026f54665f14f10bf6159a3e2140e0e",
       "version_major": 2,
       "version_minor": 0
      },
      "text/plain": []
     },
     "metadata": {},
     "output_type": "display_data"
    }
   ],
   "source": [
    "import mdtraj as md\n",
    "import nglview as view\n",
    "traj = md.load_pdb(\"../data/config2/test1/test1.pdb\")"
   ]
  },
  {
   "cell_type": "code",
   "execution_count": 5,
   "metadata": {},
   "outputs": [
    {
     "data": {
      "text/plain": [
       "<mdtraj.Trajectory with 19930 frames, 92 atoms, 92 residues, without unitcells at 0x7fb7e6d764f0>"
      ]
     },
     "execution_count": 5,
     "metadata": {},
     "output_type": "execute_result"
    }
   ],
   "source": [
    "traj"
   ]
  },
  {
   "cell_type": "code",
   "execution_count": 6,
   "metadata": {},
   "outputs": [
    {
     "data": {
      "application/vnd.jupyter.widget-view+json": {
       "model_id": "4b044bcb6f864623a9a96d2a3ade2886",
       "version_major": 2,
       "version_minor": 0
      },
      "text/plain": [
       "NGLWidget(max_frame=19929)"
      ]
     },
     "metadata": {},
     "output_type": "display_data"
    }
   ],
   "source": [
    "view.show_mdtraj(traj)"
   ]
  },
  {
   "cell_type": "code",
   "execution_count": null,
   "metadata": {},
   "outputs": [],
   "source": []
  }
 ],
 "metadata": {
  "kernelspec": {
   "display_name": "cmp",
   "language": "python",
   "name": "python3"
  },
  "language_info": {
   "codemirror_mode": {
    "name": "ipython",
    "version": 3
   },
   "file_extension": ".py",
   "mimetype": "text/x-python",
   "name": "python",
   "nbconvert_exporter": "python",
   "pygments_lexer": "ipython3",
   "version": "3.8.16"
  },
  "vscode": {
   "interpreter": {
    "hash": "3c6e775f39296998762e5b1b715f9951223bec6d023aa0db8453ede0fd32e748"
   }
  }
 },
 "nbformat": 4,
 "nbformat_minor": 2
}
